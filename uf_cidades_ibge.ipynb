{
 "cells": [
  {
   "cell_type": "code",
   "execution_count": 50,
   "metadata": {},
   "outputs": [],
   "source": [
    "import pandas  as pd\n",
    "import sqlite3 as sql3"
   ]
  },
  {
   "cell_type": "code",
   "execution_count": 51,
   "metadata": {},
   "outputs": [],
   "source": [
    "# Registrando colunas a serem selecionadas do arquivo csv\n",
    "colunas = [i for i in range(0, 13)]\n",
    "\n",
    "# Coletar e tratar tabela original do ibge\n",
    "df = (\n",
    "    pd\n",
    "        # Coletando dados do arquivo csv\n",
    "        .read_csv( 'uf_cidades_ibge.csv', sep = ';', usecols = colunas, dtype = str )\n",
    "        \n",
    "        # Renomeando colunas do DataFrame\n",
    "        .rename(\n",
    "            columns = {\n",
    "                'UF'                                  : 'id_uf',\n",
    "                'Nome_UF'                             : 'nome_uf',\n",
    "                'Região Geográfica Intermediária'     : 'id_regiao_geografica_intermediaria',\n",
    "                'Nome Região Geográfica Intermediária': 'nome_regiao_geografica_intermediaria',\n",
    "                'Região Geográfica Imediata'          : 'id_regiao_geografica_imediata',\n",
    "                'Nome Região Geográfica Imediata'     : 'nome_regiao_geografica_imediata',\n",
    "                'Mesorregião Geográfica'              : 'id_mesorregiao_geografica',\n",
    "                'Nome_Mesorregião'                    : 'nome_mesorregiao',\n",
    "                'Microrregião Geográfica'             : 'id_microrregiao_geografica',\n",
    "                'Nome_Microrregião'                   : 'nome_microrregiao_geografica',\n",
    "                'Município'                           : 'id_municipio_curto',\n",
    "                'Código Município Completo'           : 'id_municipio_completo',\n",
    "                'Nome_Município'                      : 'nome_municipio'\n",
    "            }\n",
    "        )\n",
    ")"
   ]
  },
  {
   "cell_type": "code",
   "execution_count": 52,
   "metadata": {},
   "outputs": [],
   "source": [
    "# Coletando tabela com informações adicionais dos Estados, como Sigla e Região\n",
    "info_ufs = (\n",
    "    pd\n",
    "        # Coletando tabela do site\n",
    "        .read_html( 'https://www.estadosecapitaisdobrasil.com/' )[0]\n",
    "        \n",
    "        # Selecionando apenas colunas de interesse\n",
    "        .iloc[ :, [1, 2, 4] ]\n",
    "        \n",
    "        # Renomeando colunas\n",
    "        .rename(\n",
    "            columns = {\n",
    "                'Estado': 'nome_uf',\n",
    "                'Sigla' : 'sigla_uf',\n",
    "                'Região': 'regiao_uf'\n",
    "            }\n",
    "        )\n",
    ")"
   ]
  },
  {
   "cell_type": "code",
   "execution_count": 53,
   "metadata": {},
   "outputs": [],
   "source": [
    "# Unificando as duas tabelas\n",
    "df = (\n",
    "    df\n",
    "        .merge(\n",
    "            info_ufs,\n",
    "            how = 'left',\n",
    "            on  = 'nome_uf'\n",
    "        )\n",
    ")"
   ]
  },
  {
   "cell_type": "code",
   "execution_count": 54,
   "metadata": {},
   "outputs": [],
   "source": [
    "# Reordenando as colunas do DataFrame\n",
    "df = df.iloc[ :, [0, 1, 13, 14, 2, 3, 4, 5, 6, 7, 8, 9, 10, 11, 12] ]"
   ]
  },
  {
   "cell_type": "code",
   "execution_count": 55,
   "metadata": {},
   "outputs": [
    {
     "data": {
      "text/plain": [
       "5570"
      ]
     },
     "execution_count": 55,
     "metadata": {},
     "output_type": "execute_result"
    }
   ],
   "source": [
    "conn = sql3.connect( 'dados.bd' )\n",
    "\n",
    "df.to_sql(\n",
    "    'geografia.ibge',\n",
    "    con       = conn,\n",
    "    if_exists = 'replace',\n",
    "    index     = False\n",
    ")"
   ]
  }
 ],
 "metadata": {
  "kernelspec": {
   "display_name": "venv",
   "language": "python",
   "name": "python3"
  },
  "language_info": {
   "codemirror_mode": {
    "name": "ipython",
    "version": 3
   },
   "file_extension": ".py",
   "mimetype": "text/x-python",
   "name": "python",
   "nbconvert_exporter": "python",
   "pygments_lexer": "ipython3",
   "version": "3.10.9"
  },
  "orig_nbformat": 4,
  "vscode": {
   "interpreter": {
    "hash": "438154414d31be67934f35c4daba8238c92859d319dd53dbaaceccec0f200648"
   }
  }
 },
 "nbformat": 4,
 "nbformat_minor": 2
}
