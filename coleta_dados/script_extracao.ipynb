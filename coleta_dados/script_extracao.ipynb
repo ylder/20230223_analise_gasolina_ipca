{
 "cells": [
  {
   "attachments": {},
   "cell_type": "markdown",
   "metadata": {},
   "source": [
    "## **Coleta de dados do Datalake da Basedosdados**\n",
    "***\n",
    "##### **Objetivo**: coletar dados sobre série histórica da inflação e venda de gasolina pelos distribuidores, armazenados no data lake público da base dos dados\n",
    "##### **Resultado**: utilizando-se da biblioteca de autoria da organização base dos dados, utilizei a função que direciona o python, por meio da minha conta no google BigQuery, a executar uma query no data lake da própria organização; por fim, armazenei o resultado de ambas as consultas no banco de dados do projeto ('dados.db').\n",
    "***"
   ]
  },
  {
   "cell_type": "code",
   "execution_count": 1,
   "metadata": {},
   "outputs": [],
   "source": [
    "# Bibliotecas utilizadas\n",
    "import pandas  as pd\n",
    "import sqlite3 as sql3\n",
    "import basedosdados\n",
    "\n",
    "from glob import glob"
   ]
  },
  {
   "cell_type": "code",
   "execution_count": 2,
   "metadata": {},
   "outputs": [],
   "source": [
    "# Criando / Fazendo conexão com banco de dados do projeto\n",
    "conn = sql3.connect( '../analise_dados/dados.db' )"
   ]
  },
  {
   "attachments": {},
   "cell_type": "markdown",
   "metadata": {},
   "source": [
    "### Racional do código"
   ]
  },
  {
   "attachments": {},
   "cell_type": "markdown",
   "metadata": {},
   "source": [
    "#### 1 Criei uma função que ler arquivos"
   ]
  },
  {
   "cell_type": "code",
   "execution_count": 3,
   "metadata": {},
   "outputs": [],
   "source": [
    "# Criando função para ler os arquivos '.sql'\n",
    "def ler_query( arquivo_query ):\n",
    "    \n",
    "    # Abrindo arquivo de interesse\n",
    "    with open( arquivo_query, 'r', encoding = 'utf-8' ) as arquivo:\n",
    "        \n",
    "        # Lendo e retornando conteúdo do arquivo\n",
    "        return arquivo.read()"
   ]
  },
  {
   "attachments": {},
   "cell_type": "markdown",
   "metadata": {},
   "source": [
    "#### 2 Executando query"
   ]
  },
  {
   "attachments": {},
   "cell_type": "markdown",
   "metadata": {},
   "source": [
    "##### 2.1 Nome dos arquivos das querys a serem executadas\n",
    "Coletando e armazenando em uma lista os nomes de arquivos com extensão '.sql' a serem\n",
    "lidos e executados no datalake"
   ]
  },
  {
   "cell_type": "code",
   "execution_count": 4,
   "metadata": {},
   "outputs": [
    {
     "data": {
      "text/plain": [
       "['query_gasolina.sql', 'query_inflacao.sql']"
      ]
     },
     "execution_count": 4,
     "metadata": {},
     "output_type": "execute_result"
    }
   ],
   "source": [
    "# Coletando nomes\n",
    "querys = glob( '*.sql' )\n",
    "\n",
    "querys"
   ]
  },
  {
   "attachments": {},
   "cell_type": "markdown",
   "metadata": {},
   "source": [
    "##### 2.2 Laço for que itera a lista com nome dos arquivos '.sql'; nele, o arquivo é lido pela função criada e, quando tiver o resultado da consulta, armazenará ele no banco de dados do projeto"
   ]
  },
  {
   "cell_type": "code",
   "execution_count": 9,
   "metadata": {},
   "outputs": [],
   "source": [
    "for i, item in enumerate( querys ):\n",
    "    \n",
    "    # Só há necessidade de autenticação de conta na 1º consulta do BigQuery\n",
    "    if i == 0: confirmacao = True\n",
    "    else     : confirmacao = False\n",
    "\n",
    "    # Consultando BigQuery com query dos arquivos '.sql'\n",
    "    df = basedosdados.read_sql( ler_query( item ),\n",
    "                                billing_project_id = 'portfolio-367913',\n",
    "                                reauth = confirmacao )\n",
    "    \n",
    "    # Armazenando dados da consulta no banco de dados do projeto\n",
    "    df.to_sql( f'{ item[ 6 : -4 ] }',\n",
    "               con       = conn,\n",
    "               if_exists = 'replace',\n",
    "               index     = False )"
   ]
  }
 ],
 "metadata": {
  "kernelspec": {
   "display_name": "venv",
   "language": "python",
   "name": "python3"
  },
  "language_info": {
   "codemirror_mode": {
    "name": "ipython",
    "version": 3
   },
   "file_extension": ".py",
   "mimetype": "text/x-python",
   "name": "python",
   "nbconvert_exporter": "python",
   "pygments_lexer": "ipython3",
   "version": "3.10.9"
  },
  "orig_nbformat": 4,
  "vscode": {
   "interpreter": {
    "hash": "438154414d31be67934f35c4daba8238c92859d319dd53dbaaceccec0f200648"
   }
  }
 },
 "nbformat": 4,
 "nbformat_minor": 2
}
