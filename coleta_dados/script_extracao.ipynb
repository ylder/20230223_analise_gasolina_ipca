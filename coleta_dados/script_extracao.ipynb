{
 "cells": [
  {
   "attachments": {},
   "cell_type": "markdown",
   "metadata": {},
   "source": [
    "## **Coleta de dados do Datalake da Basedosdados**\n",
    "***\n",
    "##### **Objetivo**: coletar dados sobre série histórica da inflação e venda de gasolina pelos distribuidores, armazenados no data lake público da base dos dados\n",
    "##### **Resultado**: utilizando-se da biblioteca de autoria da organização base dos dados, utilizei a função que direciona o python, por meio da minha conta no google BigQuery, a executar uma query no data lake da própria organização; por fim, armazenei o resultado de ambas as consultas no banco de dados do projeto ('dados.db').\n",
    "***"
   ]
  },
  {
   "cell_type": "code",
   "execution_count": null,
   "metadata": {},
   "outputs": [],
   "source": [
    "# Bibliotecas utilizadas\n",
    "import pandas  as pd\n",
    "import sqlite3 as sql3\n",
    "\n",
    "from basedosdados import read_sql\n",
    "from glob         import glob"
   ]
  },
  {
   "cell_type": "code",
   "execution_count": null,
   "metadata": {},
   "outputs": [],
   "source": [
    "# Criando / Fazendo conexão com banco de dados do projeto\n",
    "conn = sql3.connect( '../analise_dados/dados.db' )"
   ]
  },
  {
   "attachments": {},
   "cell_type": "markdown",
   "metadata": {},
   "source": [
    "### Racional do código"
   ]
  },
  {
   "attachments": {},
   "cell_type": "markdown",
   "metadata": {},
   "source": [
    "#### 1 Criei uma função que ler arquivos"
   ]
  },
  {
   "cell_type": "code",
   "execution_count": null,
   "metadata": {},
   "outputs": [],
   "source": [
    "# Criando função para ler os arquivos '.sql'\n",
    "def ler_query( nome_query ):\n",
    "    \n",
    "    # Abrindo arquivo de interesse\n",
    "    arq = open( nome_query, 'r')\n",
    "    \n",
    "    # Lendo conteúdo do arquivo e amazenando na variável\n",
    "    query = arq.read()\n",
    "    \n",
    "    # Fechando arquivo\n",
    "    arq.close()\n",
    "\n",
    "    # Retornando o conteúdo do arquivo\n",
    "    return query"
   ]
  },
  {
   "attachments": {},
   "cell_type": "markdown",
   "metadata": {},
   "source": [
    "#### 2 Executando query"
   ]
  },
  {
   "attachments": {},
   "cell_type": "markdown",
   "metadata": {},
   "source": [
    "##### 2.1 armazenei em uma lista o nome dos arquivos '.sql' que devem ser lidos pela função"
   ]
  },
  {
   "cell_type": "code",
   "execution_count": null,
   "metadata": {},
   "outputs": [],
   "source": [
    "# Coletando e armazenando em uma lista os nomes de arquivos com extensão '.sql' a serem\n",
    "# lidos e executados no datalake\n",
    "querys = glob( '*.sql' )"
   ]
  },
  {
   "attachments": {},
   "cell_type": "markdown",
   "metadata": {},
   "source": [
    "##### 2.2 Antes de usar a função para consultar os dados, precisei registrar em uma lista que é necessário a confirmação de identidade (login) na conta do BigQuery apenas na primeira query a ser executada"
   ]
  },
  {
   "cell_type": "code",
   "execution_count": null,
   "metadata": {},
   "outputs": [],
   "source": [
    "# Registrando que só há necessidade de autenticação na primeira consulta do BigQuery;\n",
    "# Para isso, itero a lista com a quantidade de querys que serão executadas no data lake e\n",
    "# registro apenas na primeira o comando 'True', autorizando assim a atenticação.\n",
    "confirmacao = []\n",
    "for i in range( len( querys ) ):\n",
    "    if i == 0: confirmacao.append( True  )\n",
    "    else     : confirmacao.append( False )"
   ]
  },
  {
   "attachments": {},
   "cell_type": "markdown",
   "metadata": {},
   "source": [
    "##### 2.3 Laço for que itera a lista com nome dos arquivos '.sql'; nele, o arquivo é lido pela função criada e, quando tiver o resultado da consulta, armazenará ele no banco de dados do projeto"
   ]
  },
  {
   "cell_type": "code",
   "execution_count": null,
   "metadata": {},
   "outputs": [],
   "source": [
    "# Executando querys e armazenando resultados em arquivos '.csv' na pasta indicada\n",
    "for i, item in enumerate( querys ):\n",
    "    (\n",
    "        # Consultando BigQuery com query dos arquivos '.sql'\n",
    "        read_sql(\n",
    "            ler_query( querys[i] ),\n",
    "            billing_project_id = 'portfolio-367913',\n",
    "            reauth = confirmacao[i]\n",
    "        )\n",
    "        \n",
    "        # Armazenando dados da consulta no banco de dados do projeto\n",
    "        .to_sql(\n",
    "            f'{item[6:-4]}',\n",
    "            con       = conn,\n",
    "            if_exists = 'replace',\n",
    "            index     = False\n",
    "        )\n",
    "    )"
   ]
  }
 ],
 "metadata": {
  "kernelspec": {
   "display_name": "venv",
   "language": "python",
   "name": "python3"
  },
  "language_info": {
   "codemirror_mode": {
    "name": "ipython",
    "version": 3
   },
   "file_extension": ".py",
   "mimetype": "text/x-python",
   "name": "python",
   "nbconvert_exporter": "python",
   "pygments_lexer": "ipython3",
   "version": "3.10.9"
  },
  "orig_nbformat": 4,
  "vscode": {
   "interpreter": {
    "hash": "438154414d31be67934f35c4daba8238c92859d319dd53dbaaceccec0f200648"
   }
  }
 },
 "nbformat": 4,
 "nbformat_minor": 2
}
