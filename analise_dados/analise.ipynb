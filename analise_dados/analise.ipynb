{
 "cells": [
  {
   "attachments": {},
   "cell_type": "markdown",
   "metadata": {},
   "source": [
    "# **Análise do DataSet**\n",
    "***\n",
    "##### Os objetivos buscados por esse script são:\n",
    "1. visualizar comportamento da evolução do preço da gasolina x evolução do preço da gasolina ajustado à inflação;\n",
    "2. saber quais regiões possuem maior preço médio da gasolina.\n",
    "***"
   ]
  },
  {
   "cell_type": "code",
   "execution_count": 13,
   "metadata": {},
   "outputs": [],
   "source": [
    "# Bibliotecas que serão utilizadas\n",
    "import pandas            as pd\n",
    "import matplotlib.pyplot as plt\n",
    "import numpy             as np\n",
    "\n",
    "from sqlite3   import connect"
   ]
  },
  {
   "attachments": {},
   "cell_type": "markdown",
   "metadata": {},
   "source": [
    "***\n",
    "### Coletando dados"
   ]
  },
  {
   "cell_type": "code",
   "execution_count": 14,
   "metadata": {},
   "outputs": [],
   "source": [
    "# Fazendo conexão com banco de dados do projeto\n",
    "conn = connect( 'dados.db' )"
   ]
  },
  {
   "cell_type": "code",
   "execution_count": 15,
   "metadata": {},
   "outputs": [],
   "source": [
    "# Coletando dataframe a ser utilizado na análise\n",
    "with open( 'preco_gasolina.sql', 'r', encoding = 'utf-8' ) as arquivo:\n",
    "    \n",
    "    # Lendo conteúdo do arquivo\n",
    "    query = arquivo.read()\n",
    "    \n",
    "    # Executando consulta ao banco de dados com conteúdo do arquivo\n",
    "    df = (\n",
    "        pd\n",
    "            .read_sql_query(\n",
    "                query,\n",
    "                conn,\n",
    "                parse_dates = 'data_coleta',\n",
    "                dtype = {\n",
    "                    'preco_venda'    : float,\n",
    "                    'preco_corrigido': float\n",
    "                }\n",
    "            )\n",
    "    )"
   ]
  },
  {
   "cell_type": "code",
   "execution_count": 16,
   "metadata": {},
   "outputs": [
    {
     "data": {
      "text/html": [
       "<div>\n",
       "<style scoped>\n",
       "    .dataframe tbody tr th:only-of-type {\n",
       "        vertical-align: middle;\n",
       "    }\n",
       "\n",
       "    .dataframe tbody tr th {\n",
       "        vertical-align: top;\n",
       "    }\n",
       "\n",
       "    .dataframe thead th {\n",
       "        text-align: right;\n",
       "    }\n",
       "</style>\n",
       "<table border=\"1\" class=\"dataframe\">\n",
       "  <thead>\n",
       "    <tr style=\"text-align: right;\">\n",
       "      <th></th>\n",
       "      <th>data_coleta</th>\n",
       "      <th>preco_venda</th>\n",
       "      <th>preco_corrigido</th>\n",
       "      <th>id_municipio_completo</th>\n",
       "      <th>nome_municipio</th>\n",
       "      <th>nome_uf</th>\n",
       "      <th>sigla_uf</th>\n",
       "      <th>regiao_uf</th>\n",
       "    </tr>\n",
       "  </thead>\n",
       "  <tbody>\n",
       "    <tr>\n",
       "      <th>0</th>\n",
       "      <td>2021-01-01</td>\n",
       "      <td>4.399</td>\n",
       "      <td>4.749390</td>\n",
       "      <td>3536505</td>\n",
       "      <td>Paulínia</td>\n",
       "      <td>São Paulo</td>\n",
       "      <td>SP</td>\n",
       "      <td>Sudeste</td>\n",
       "    </tr>\n",
       "    <tr>\n",
       "      <th>1</th>\n",
       "      <td>2021-01-01</td>\n",
       "      <td>4.149</td>\n",
       "      <td>4.479477</td>\n",
       "      <td>3552403</td>\n",
       "      <td>Sumaré</td>\n",
       "      <td>São Paulo</td>\n",
       "      <td>SP</td>\n",
       "      <td>Sudeste</td>\n",
       "    </tr>\n",
       "    <tr>\n",
       "      <th>2</th>\n",
       "      <td>2021-01-01</td>\n",
       "      <td>4.199</td>\n",
       "      <td>4.533459</td>\n",
       "      <td>3536505</td>\n",
       "      <td>Paulínia</td>\n",
       "      <td>São Paulo</td>\n",
       "      <td>SP</td>\n",
       "      <td>Sudeste</td>\n",
       "    </tr>\n",
       "    <tr>\n",
       "      <th>3</th>\n",
       "      <td>2021-01-01</td>\n",
       "      <td>4.499</td>\n",
       "      <td>4.857355</td>\n",
       "      <td>4320008</td>\n",
       "      <td>Sapucaia do Sul</td>\n",
       "      <td>Rio Grande do Sul</td>\n",
       "      <td>RS</td>\n",
       "      <td>Sul</td>\n",
       "    </tr>\n",
       "    <tr>\n",
       "      <th>4</th>\n",
       "      <td>2021-01-01</td>\n",
       "      <td>4.469</td>\n",
       "      <td>4.824965</td>\n",
       "      <td>4320008</td>\n",
       "      <td>Sapucaia do Sul</td>\n",
       "      <td>Rio Grande do Sul</td>\n",
       "      <td>RS</td>\n",
       "      <td>Sul</td>\n",
       "    </tr>\n",
       "  </tbody>\n",
       "</table>\n",
       "</div>"
      ],
      "text/plain": [
       "  data_coleta  preco_venda  preco_corrigido id_municipio_completo  \\\n",
       "0  2021-01-01        4.399         4.749390               3536505   \n",
       "1  2021-01-01        4.149         4.479477               3552403   \n",
       "2  2021-01-01        4.199         4.533459               3536505   \n",
       "3  2021-01-01        4.499         4.857355               4320008   \n",
       "4  2021-01-01        4.469         4.824965               4320008   \n",
       "\n",
       "    nome_municipio            nome_uf sigla_uf regiao_uf  \n",
       "0         Paulínia          São Paulo       SP   Sudeste  \n",
       "1           Sumaré          São Paulo       SP   Sudeste  \n",
       "2         Paulínia          São Paulo       SP   Sudeste  \n",
       "3  Sapucaia do Sul  Rio Grande do Sul       RS       Sul  \n",
       "4  Sapucaia do Sul  Rio Grande do Sul       RS       Sul  "
      ]
     },
     "execution_count": 16,
     "metadata": {},
     "output_type": "execute_result"
    }
   ],
   "source": [
    "# Visualizando resultado\n",
    "df.head()"
   ]
  },
  {
   "attachments": {},
   "cell_type": "markdown",
   "metadata": {},
   "source": [
    "***\n",
    "### Entendendo os dados"
   ]
  },
  {
   "cell_type": "code",
   "execution_count": 17,
   "metadata": {},
   "outputs": [
    {
     "name": "stdout",
     "output_type": "stream",
     "text": [
      "<class 'pandas.core.frame.DataFrame'>\n",
      "RangeIndex: 6641475 entries, 0 to 6641474\n",
      "Data columns (total 8 columns):\n",
      " #   Column                 Dtype         \n",
      "---  ------                 -----         \n",
      " 0   data_coleta            datetime64[ns]\n",
      " 1   preco_venda            float64       \n",
      " 2   preco_corrigido        float64       \n",
      " 3   id_municipio_completo  object        \n",
      " 4   nome_municipio         object        \n",
      " 5   nome_uf                object        \n",
      " 6   sigla_uf               object        \n",
      " 7   regiao_uf              object        \n",
      "dtypes: datetime64[ns](1), float64(2), object(5)\n",
      "memory usage: 405.4+ MB\n"
     ]
    }
   ],
   "source": [
    "# Descrevendo o dataframe\n",
    "df.info()"
   ]
  },
  {
   "cell_type": "code",
   "execution_count": 18,
   "metadata": {},
   "outputs": [
    {
     "data": {
      "text/html": [
       "<div>\n",
       "<style scoped>\n",
       "    .dataframe tbody tr th:only-of-type {\n",
       "        vertical-align: middle;\n",
       "    }\n",
       "\n",
       "    .dataframe tbody tr th {\n",
       "        vertical-align: top;\n",
       "    }\n",
       "\n",
       "    .dataframe thead th {\n",
       "        text-align: right;\n",
       "    }\n",
       "</style>\n",
       "<table border=\"1\" class=\"dataframe\">\n",
       "  <thead>\n",
       "    <tr style=\"text-align: right;\">\n",
       "      <th></th>\n",
       "      <th>preco_venda</th>\n",
       "      <th>preco_corrigido</th>\n",
       "    </tr>\n",
       "  </thead>\n",
       "  <tbody>\n",
       "    <tr>\n",
       "      <th>count</th>\n",
       "      <td>6641475.00</td>\n",
       "      <td>6641475.00</td>\n",
       "    </tr>\n",
       "    <tr>\n",
       "      <th>mean</th>\n",
       "      <td>3.05</td>\n",
       "      <td>5.20</td>\n",
       "    </tr>\n",
       "    <tr>\n",
       "      <th>std</th>\n",
       "      <td>0.78</td>\n",
       "      <td>0.58</td>\n",
       "    </tr>\n",
       "    <tr>\n",
       "      <th>min</th>\n",
       "      <td>1.39</td>\n",
       "      <td>2.91</td>\n",
       "    </tr>\n",
       "    <tr>\n",
       "      <th>25%</th>\n",
       "      <td>2.54</td>\n",
       "      <td>4.75</td>\n",
       "    </tr>\n",
       "    <tr>\n",
       "      <th>50%</th>\n",
       "      <td>2.76</td>\n",
       "      <td>5.11</td>\n",
       "    </tr>\n",
       "    <tr>\n",
       "      <th>75%</th>\n",
       "      <td>3.35</td>\n",
       "      <td>5.60</td>\n",
       "    </tr>\n",
       "    <tr>\n",
       "      <th>max</th>\n",
       "      <td>7.50</td>\n",
       "      <td>8.69</td>\n",
       "    </tr>\n",
       "  </tbody>\n",
       "</table>\n",
       "</div>"
      ],
      "text/plain": [
       "       preco_venda  preco_corrigido\n",
       "count   6641475.00       6641475.00\n",
       "mean          3.05             5.20\n",
       "std           0.78             0.58\n",
       "min           1.39             2.91\n",
       "25%           2.54             4.75\n",
       "50%           2.76             5.11\n",
       "75%           3.35             5.60\n",
       "max           7.50             8.69"
      ]
     },
     "execution_count": 18,
     "metadata": {},
     "output_type": "execute_result"
    }
   ],
   "source": [
    "# Observando cenário estatístico dos valores\n",
    "df.describe().round(2)"
   ]
  },
  {
   "attachments": {},
   "cell_type": "markdown",
   "metadata": {},
   "source": [
    "#### Análise do resultado\n",
    "<font size = '3'>\n",
    "Podemos observar que o cenário real é bastante diferente do corrigido. A média do preço deste último<br>\n",
    "é 70,5% maior que a real, isso demonsta a importância de se olhar dados financeiros/econômicos históricos<br>\n",
    "por meio da ótica do ajuste inflacionário, pois a visão não parte da quantia absoluta, mas sim do ponto de vista do<br>\n",
    "poder de comprar.<br><br>\n",
    "Outro ponto de observação é a diferença relativa do desvio padrão observado nas duas séries. Utilizando-se<br>\n",
    "do coeficiente de variação(CV) ( desv. p. ÷ média ), temos que o CV do preco_venda é 25,59%, enquanto o preco_corrigido tem CV de 11,25%;<br>\n",
    "ou seja, na série com ajuste inflacionário, o preço variou menos que o preço real.\n",
    "</font>"
   ]
  },
  {
   "attachments": {},
   "cell_type": "markdown",
   "metadata": {},
   "source": [
    "***\n",
    "### Comportamento da evolução do preço da gasolina x evolução do preço da gasolina ajustado a inflação"
   ]
  },
  {
   "cell_type": "code",
   "execution_count": 19,
   "metadata": {},
   "outputs": [],
   "source": [
    "# Gerando dataframe para o gráfico\n",
    "df_evolucao = (\n",
    "    \n",
    "    df\n",
    "        # Agrupando tabela pelos dias\n",
    "        .groupby( by = 'data_coleta', as_index = False )[ ['preco_venda', 'preco_corrigido'] ]\n",
    "        \n",
    "        # Gerando média diária do R$/L da gasolina\n",
    "        .mean()\n",
    ")"
   ]
  },
  {
   "cell_type": "code",
   "execution_count": 20,
   "metadata": {},
   "outputs": [
    {
     "data": {
      "text/html": [
       "<div>\n",
       "<style scoped>\n",
       "    .dataframe tbody tr th:only-of-type {\n",
       "        vertical-align: middle;\n",
       "    }\n",
       "\n",
       "    .dataframe tbody tr th {\n",
       "        vertical-align: top;\n",
       "    }\n",
       "\n",
       "    .dataframe thead th {\n",
       "        text-align: right;\n",
       "    }\n",
       "</style>\n",
       "<table border=\"1\" class=\"dataframe\">\n",
       "  <thead>\n",
       "    <tr style=\"text-align: right;\">\n",
       "      <th></th>\n",
       "      <th>data_coleta</th>\n",
       "      <th>preco_venda</th>\n",
       "      <th>preco_corrigido</th>\n",
       "    </tr>\n",
       "  </thead>\n",
       "  <tbody>\n",
       "    <tr>\n",
       "      <th>0</th>\n",
       "      <td>2005-01-03</td>\n",
       "      <td>2.306641</td>\n",
       "      <td>5.753634</td>\n",
       "    </tr>\n",
       "    <tr>\n",
       "      <th>1</th>\n",
       "      <td>2005-01-04</td>\n",
       "      <td>2.341689</td>\n",
       "      <td>5.841057</td>\n",
       "    </tr>\n",
       "    <tr>\n",
       "      <th>2</th>\n",
       "      <td>2005-01-05</td>\n",
       "      <td>2.306009</td>\n",
       "      <td>5.752057</td>\n",
       "    </tr>\n",
       "    <tr>\n",
       "      <th>3</th>\n",
       "      <td>2005-01-06</td>\n",
       "      <td>2.348056</td>\n",
       "      <td>5.856938</td>\n",
       "    </tr>\n",
       "    <tr>\n",
       "      <th>4</th>\n",
       "      <td>2005-01-10</td>\n",
       "      <td>2.329102</td>\n",
       "      <td>5.809660</td>\n",
       "    </tr>\n",
       "  </tbody>\n",
       "</table>\n",
       "</div>"
      ],
      "text/plain": [
       "  data_coleta  preco_venda  preco_corrigido\n",
       "0  2005-01-03     2.306641         5.753634\n",
       "1  2005-01-04     2.341689         5.841057\n",
       "2  2005-01-05     2.306009         5.752057\n",
       "3  2005-01-06     2.348056         5.856938\n",
       "4  2005-01-10     2.329102         5.809660"
      ]
     },
     "execution_count": 20,
     "metadata": {},
     "output_type": "execute_result"
    }
   ],
   "source": [
    "# Visualizando resultado\n",
    "df_evolucao.head()"
   ]
  },
  {
   "cell_type": "code",
   "execution_count": 21,
   "metadata": {},
   "outputs": [
    {
     "name": "stdout",
     "output_type": "stream",
     "text": [
      "<class 'pandas.core.frame.DataFrame'>\n",
      "RangeIndex: 3579 entries, 0 to 3578\n",
      "Data columns (total 3 columns):\n",
      " #   Column           Non-Null Count  Dtype         \n",
      "---  ------           --------------  -----         \n",
      " 0   data_coleta      3579 non-null   datetime64[ns]\n",
      " 1   preco_venda      3579 non-null   float64       \n",
      " 2   preco_corrigido  3579 non-null   float64       \n",
      "dtypes: datetime64[ns](1), float64(2)\n",
      "memory usage: 84.0 KB\n"
     ]
    }
   ],
   "source": [
    "# Descrevendo o dataframe\n",
    "df_evolucao.info()"
   ]
  },
  {
   "cell_type": "code",
   "execution_count": 22,
   "metadata": {},
   "outputs": [
    {
     "data": {
      "image/png": "[encoded data removed]",
      "text/plain": [
       "<Figure size 1250x300 with 1 Axes>"
      ]
     },
     "metadata": {},
     "output_type": "display_data"
    }
   ],
   "source": [
    "# Dados que serão plotados no gráfico\n",
    "x  = df_evolucao['data_coleta'    ]\n",
    "y1 = df_evolucao['preco_venda'    ]\n",
    "y2 = df_evolucao['preco_corrigido']\n",
    "\n",
    "# Definindo tamanho do gráfico\n",
    "plt.figure( figsize = (12.5, 3) )\n",
    "\n",
    "# Definindo as linhas que serão plotadas\n",
    "plt.plot(\n",
    "    x, y1,\n",
    "    label     = 'Preço original',\n",
    "    color     = '#333F4F',\n",
    "    linestyle = 'solid',\n",
    "    linewidth = 0.5\n",
    ")\n",
    "plt.plot(\n",
    "    x, y2,\n",
    "    label     = 'Preço corrigido',\n",
    "    color     = '#00B0F0',\n",
    "    linestyle = 'solid',\n",
    "    linewidth = 0.5\n",
    ")\n",
    "\n",
    "# Ajustando nomes\n",
    "plt.title ( 'Evolução do preço do R$/L da gasolina')\n",
    "plt.xlabel( 'Período'                              )\n",
    "plt.ylabel( 'Média diária do R$/L da gasolina'     )\n",
    "plt.legend()\n",
    "\n",
    "# Ajustando traços de contornos do gráfico\n",
    "plt.grid( True )\n",
    "plt.gca()\\\n",
    "   .spines[['top','right', 'bottom', 'left']]\\\n",
    "   .set_visible(False)\n",
    "\n",
    "# Apresentando gráfico                         \n",
    "plt.show()"
   ]
  },
  {
   "attachments": {},
   "cell_type": "markdown",
   "metadata": {},
   "source": [
    "#### Análise do resultado\n",
    "<font size = '3'>O comportamento do preço ajustado pela inflação possui uma diferença alta em relação ao preço real,<br>\n",
    "e há uma semelhança considerável entre o preço ajustado estabelecido em 2005|2006|2007 e 2021.<br><br>\n",
    "Podemos concluir que, partindo do ponto de vista do poder de compra, o valor da gasolina em 10/2021<br>\n",
    "também esteve ativo entre 2005 e 2007, sendo o melhor momento do preço do litro entre 2012 e 2017\n",
    "</font>"
   ]
  },
  {
   "attachments": {},
   "cell_type": "markdown",
   "metadata": {},
   "source": [
    "***\n",
    "### Quais regiões possuem maior preço médio da gasolina?"
   ]
  },
  {
   "cell_type": "code",
   "execution_count": 23,
   "metadata": {},
   "outputs": [
    {
     "data": {
      "text/html": [
       "<div>\n",
       "<style scoped>\n",
       "    .dataframe tbody tr th:only-of-type {\n",
       "        vertical-align: middle;\n",
       "    }\n",
       "\n",
       "    .dataframe tbody tr th {\n",
       "        vertical-align: top;\n",
       "    }\n",
       "\n",
       "    .dataframe thead th {\n",
       "        text-align: right;\n",
       "    }\n",
       "</style>\n",
       "<table border=\"1\" class=\"dataframe\">\n",
       "  <thead>\n",
       "    <tr style=\"text-align: right;\">\n",
       "      <th></th>\n",
       "      <th>regiao_uf</th>\n",
       "      <th>preco_corrigido</th>\n",
       "      <th>percent_dif</th>\n",
       "    </tr>\n",
       "  </thead>\n",
       "  <tbody>\n",
       "    <tr>\n",
       "      <th>0</th>\n",
       "      <td>Norte</td>\n",
       "      <td>5.51</td>\n",
       "      <td>0.00</td>\n",
       "    </tr>\n",
       "    <tr>\n",
       "      <th>1</th>\n",
       "      <td>Centro-Oeste</td>\n",
       "      <td>5.37</td>\n",
       "      <td>-2.54</td>\n",
       "    </tr>\n",
       "    <tr>\n",
       "      <th>2</th>\n",
       "      <td>Nordeste</td>\n",
       "      <td>5.25</td>\n",
       "      <td>-4.72</td>\n",
       "    </tr>\n",
       "    <tr>\n",
       "      <th>3</th>\n",
       "      <td>Sul</td>\n",
       "      <td>5.20</td>\n",
       "      <td>-5.63</td>\n",
       "    </tr>\n",
       "    <tr>\n",
       "      <th>4</th>\n",
       "      <td>Sudeste</td>\n",
       "      <td>5.11</td>\n",
       "      <td>-7.26</td>\n",
       "    </tr>\n",
       "  </tbody>\n",
       "</table>\n",
       "</div>"
      ],
      "text/plain": [
       "      regiao_uf  preco_corrigido  percent_dif\n",
       "0         Norte             5.51         0.00\n",
       "1  Centro-Oeste             5.37        -2.54\n",
       "2      Nordeste             5.25        -4.72\n",
       "3           Sul             5.20        -5.63\n",
       "4       Sudeste             5.11        -7.26"
      ]
     },
     "execution_count": 23,
     "metadata": {},
     "output_type": "execute_result"
    }
   ],
   "source": [
    "# Gerando dataframe para o gráfico\n",
    "df_regioes = (\n",
    "    \n",
    "    df\n",
    "\n",
    "        # Agrupando tabela pelos dias\n",
    "        .groupby( by = ['regiao_uf'], as_index = False )['preco_corrigido']\n",
    "        \n",
    "        # Gerando média diária do R$/L da gasolina\n",
    "        .mean().round(2)\n",
    "\n",
    "        # Rankeando tabela\n",
    "        .sort_values('preco_corrigido', ascending = False)\n",
    "\n",
    "        # Ajustando index após rankeamento da tabela\n",
    "        .reset_index( drop = True )\n",
    "\n",
    "        # Coluna p/ evidenciar diferença % do mais caro contra os mais baratos\n",
    "        .assign(\n",
    "            percent_dif =\n",
    "                lambda df: \n",
    "                    round(\n",
    "                        ( df['preco_corrigido'] / df['preco_corrigido'][ min(df.index) ] - 1 ) * 100,\n",
    "                    2\n",
    "                )\n",
    "        )\n",
    ")\n",
    "\n",
    "# Resultado\n",
    "df_regioes"
   ]
  },
  {
   "attachments": {},
   "cell_type": "markdown",
   "metadata": {},
   "source": [
    "#### Análise do resultado\n",
    "<font size = '3'>\n",
    "Podemos observar que, durante o período observado, a região Norte se classifica como o Real por L médio<br>\n",
    "mais caro do Brasil. Já as regiões ao Sul do país, possuem o menor preço médio de gasolina nacional.<br><br>\n",
    "Na coluna 'percent_dif', podemos observar que o menor Real por L médio é 7,26% menor que o mais caro.\n",
    "</font>"
   ]
  },
  {
   "cell_type": "markdown",
   "metadata": {},
   "source": [
    "***"
   ]
  }
 ],
 "metadata": {
  "kernelspec": {
   "display_name": "venv",
   "language": "python",
   "name": "python3"
  },
  "language_info": {
   "codemirror_mode": {
    "name": "ipython",
    "version": 3
   },
   "file_extension": ".py",
   "mimetype": "text/x-python",
   "name": "python",
   "nbconvert_exporter": "python",
   "pygments_lexer": "ipython3",
   "version": "3.10.9"
  },
  "orig_nbformat": 4
 },
 "nbformat": 4,
 "nbformat_minor": 2
}
