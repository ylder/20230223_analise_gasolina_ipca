{
 "cells": [
  {
   "attachments": {},
   "cell_type": "markdown",
   "metadata": {},
   "source": [
    "## **Coleta de dados do Datalake da Basedosdados**\n",
    "***\n",
    "##### **Objetivo**: coletar dados sobre série histórica da inflação e venda de combustíveis dos distribuidores, armazenados no data lake público da base dos dados\n",
    "##### **Resultado**: adição de duas tabelas, uma com série histórica da inflação e outra com venda de combustíveis dos distribuidores no banco de dados 'dados.bd'\n",
    "***"
   ]
  },
  {
   "cell_type": "code",
   "execution_count": 12,
   "metadata": {},
   "outputs": [],
   "source": [
    "# Bibliotecas utilizadas\n",
    "import pandas  as pd\n",
    "import sqlite3 as sql3\n",
    "\n",
    "from basedosdados import read_sql\n",
    "from glob         import glob"
   ]
  },
  {
   "cell_type": "code",
   "execution_count": 13,
   "metadata": {},
   "outputs": [],
   "source": [
    "# Criando função para ler os arquivos '.sql'\n",
    "def ler_query( nome_query ):\n",
    "    \n",
    "    # Abrindo arquivo de interesse\n",
    "    arq = open( nome_query, 'r')\n",
    "    \n",
    "    # Lendo conteúdo do arquivo e amazenando na variável\n",
    "    query = arq.read()\n",
    "    \n",
    "    # Fechando arquivo\n",
    "    arq.close()\n",
    "\n",
    "    # Retornando o conteúdo do arquivo\n",
    "    return query"
   ]
  },
  {
   "cell_type": "code",
   "execution_count": 14,
   "metadata": {},
   "outputs": [],
   "source": [
    "# Coletando e armazenando em uma lista os nomes de arquivos com extensão '.sql' a serem\n",
    "# lidos e executados no datalake\n",
    "querys = glob( '*.sql' )\n",
    "\n",
    "# Fazendo conexão com banco de dados que será o destino dos dados consultados\n",
    "conn = sql3.connect( '../dados.bd' )"
   ]
  },
  {
   "cell_type": "code",
   "execution_count": 15,
   "metadata": {},
   "outputs": [],
   "source": [
    "# Registrando que só há necessidade de autenticação na primeira consulta do BigQuery\n",
    "confirmacao = []\n",
    "for i in range( len( querys ) ):\n",
    "    if i == 0: confirmacao.append( True  )\n",
    "    else     : confirmacao.append( False )"
   ]
  },
  {
   "cell_type": "code",
   "execution_count": 16,
   "metadata": {},
   "outputs": [
    {
     "name": "stdout",
     "output_type": "stream",
     "text": [
      "Please visit this URL to authorize this application: https://accounts.google.com/o/oauth2/auth?response_type=code&client_id=262006177488-3425ks60hkk80fssi9vpohv88g6q1iqd.apps.googleusercontent.com&redirect_uri=http%3A%2F%2Flocalhost%3A8080%2F&scope=https%3A%2F%2Fwww.googleapis.com%2Fauth%2Fcloud-platform&state=TXuLal2G4CI5kv79JpRFb0Ihcq5BV2&access_type=offline\n"
     ]
    },
    {
     "name": "stderr",
     "output_type": "stream",
     "text": [
      "Downloading: 100%|██████████| 6641475/6641475 [05:09<00:00, 21449.70rows/s]\n",
      "Downloading: 100%|██████████| 204/204 [00:00<00:00, 621.42rows/s]\n"
     ]
    }
   ],
   "source": [
    "# Executando querys e armazenando resultados em arquivos '.csv' na pasta indicada\n",
    "for i, item in enumerate( querys ):\n",
    "    (\n",
    "        # Consultando BigQuery com query dos arquivos '.sql'\n",
    "        read_sql(\n",
    "            ler_query( querys[i] ),\n",
    "            billing_project_id = 'portfolio-367913',\n",
    "            reauth = confirmacao[i]\n",
    "        )\n",
    "        \n",
    "        # Armazenando dados da consulta em tabelas no banco de dados 'dados.bd'\n",
    "        .to_sql(\n",
    "            f'{item[6:-4]}',\n",
    "            con       = conn,\n",
    "            if_exists = 'replace',\n",
    "            index     = False\n",
    "        )\n",
    "    )"
   ]
  }
 ],
 "metadata": {
  "kernelspec": {
   "display_name": "venv",
   "language": "python",
   "name": "python3"
  },
  "language_info": {
   "codemirror_mode": {
    "name": "ipython",
    "version": 3
   },
   "file_extension": ".py",
   "mimetype": "text/x-python",
   "name": "python",
   "nbconvert_exporter": "python",
   "pygments_lexer": "ipython3",
   "version": "3.10.9"
  },
  "orig_nbformat": 4,
  "vscode": {
   "interpreter": {
    "hash": "438154414d31be67934f35c4daba8238c92859d319dd53dbaaceccec0f200648"
   }
  }
 },
 "nbformat": 4,
 "nbformat_minor": 2
}
